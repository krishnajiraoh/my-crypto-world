{
 "cells": [
  {
   "cell_type": "code",
   "execution_count": 1,
   "metadata": {},
   "outputs": [],
   "source": [
    "# Import the following modules\n",
    "from pushbullet import PushBullet\n",
    "import time\n",
    "import os"
   ]
  },
  {
   "cell_type": "code",
   "execution_count": 3,
   "metadata": {},
   "outputs": [],
   "source": [
    "# Get the access token from Pushbullet.com\n",
    "access_token = \"\"\n",
    " \n",
    " \n",
    "# Taking input from the user\n",
    "data = \"Hello from python\"\n",
    "  \n",
    "# Get the instance using access token\n",
    "pb = PushBullet(access_token)"
   ]
  },
  {
   "cell_type": "code",
   "execution_count": 4,
   "metadata": {},
   "outputs": [],
   "source": [
    "push = pb.push_note(\"Hello title from python\", data)"
   ]
  },
  {
   "cell_type": "code",
   "execution_count": 3,
   "metadata": {},
   "outputs": [
    {
     "name": "stdout",
     "output_type": "stream",
     "text": [
      "None\n"
     ]
    }
   ],
   "source": [
    "print(access_token)"
   ]
  },
  {
   "cell_type": "code",
   "execution_count": 7,
   "metadata": {},
   "outputs": [
    {
     "data": {
      "text/plain": [
       "'/Users/I301903/opt/anaconda3/bin:/Users/I301903/opt/anaconda3/bin:/Users/I301903/opt/anaconda3/bin:/Users/I301903/opt/anaconda3/bin:/Users/I301903/opt/anaconda3/bin:/Users/I301903/opt/anaconda3/bin:/Users/I301903/opt/anaconda3/bin:/Users/I301903/opt/anaconda3/bin:/Users/I301903/opt/anaconda3/bin:/Users/I301903/opt/anaconda3/bin:/Users/I301903/opt/anaconda3/bin:/Users/I301903/opt/anaconda3/bin:/Users/I301903/opt/anaconda3/bin:/Users/I301903/opt/anaconda3/bin:/Users/I301903/opt/anaconda3/bin:/Users/I301903/opt/anaconda3/bin:/Users/I301903/opt/anaconda3/bin:/Users/I301903/opt/anaconda3/bin:/Users/I301903/opt/anaconda3/bin:/Users/I301903/opt/anaconda3/bin:/Users/I301903/opt/anaconda3/bin:/Users/I301903/opt/anaconda3/bin:/Users/I301903/opt/anaconda3/bin:/Users/I301903/opt/anaconda3/bin:/Users/I301903/opt/anaconda3/bin:/Users/I301903/opt/anaconda3/bin:/Users/I301903/opt/anaconda3/bin:/Users/I301903/opt/anaconda3/bin:/Users/I301903/opt/anaconda3/bin:/Users/I301903/opt/anaconda3/bin:/Users/I301903/opt/anaconda3/bin:/Users/I301903/opt/anaconda3/bin:/Users/I301903/opt/anaconda3/bin:/Users/I301903/opt/anaconda3/bin:/Users/I301903/opt/anaconda3/bin:/Users/I301903/opt/anaconda3/bin:/Users/I301903/opt/anaconda3/bin:/Users/I301903/opt/anaconda3/bin:/Users/I301903/opt/anaconda3/bin:/Users/I301903/opt/anaconda3/bin:/Users/I301903/opt/anaconda3/bin:/Users/I301903/opt/anaconda3/bin:/Users/I301903/opt/anaconda3/bin:/Users/I301903/opt/anaconda3/bin:/Users/I301903/opt/anaconda3/bin:/Users/I301903/opt/anaconda3/bin:/usr/local/bin:/usr/bin:/bin:/usr/sbin:/sbin:/Applications/Privileges.app/Contents/Resources:/Users/I301903/opt/anaconda3/bin:/Users/I301903/opt/anaconda3/condabin'"
      ]
     },
     "execution_count": 7,
     "metadata": {},
     "output_type": "execute_result"
    }
   ],
   "source": [
    "os.environ.get(\"PATH\")"
   ]
  },
  {
   "cell_type": "code",
   "execution_count": 8,
   "metadata": {},
   "outputs": [
    {
     "data": {
      "text/plain": [
       "'3.9.7 (default, Sep 16 2021, 08:50:36) \\n[Clang 10.0.0 ]'"
      ]
     },
     "execution_count": 8,
     "metadata": {},
     "output_type": "execute_result"
    }
   ],
   "source": [
    "import sys\n",
    "sys.version"
   ]
  },
  {
   "cell_type": "code",
   "execution_count": null,
   "metadata": {},
   "outputs": [],
   "source": []
  }
 ],
 "metadata": {
  "interpreter": {
   "hash": "17537b59a2032bbc7e1e402562b716ee2ffafcb7a718ba71176ad13793621877"
  },
  "kernelspec": {
   "display_name": "Python 3.9.7 ('base')",
   "language": "python",
   "name": "python3"
  },
  "language_info": {
   "codemirror_mode": {
    "name": "ipython",
    "version": 3
   },
   "file_extension": ".py",
   "mimetype": "text/x-python",
   "name": "python",
   "nbconvert_exporter": "python",
   "pygments_lexer": "ipython3",
   "version": "3.9.4"
  },
  "orig_nbformat": 4
 },
 "nbformat": 4,
 "nbformat_minor": 2
}
