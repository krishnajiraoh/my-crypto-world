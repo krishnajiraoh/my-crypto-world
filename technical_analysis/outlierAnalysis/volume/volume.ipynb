{
 "cells": [
  {
   "cell_type": "code",
   "execution_count": 1,
   "metadata": {},
   "outputs": [],
   "source": [
    "import pandas as pd \n",
    "import numpy as np\n",
    "\n",
    "import seaborn as sns\n",
    "import matplotlib.pyplot as plt"
   ]
  },
  {
   "cell_type": "code",
   "execution_count": 2,
   "metadata": {},
   "outputs": [],
   "source": [
    "from pycoingecko import CoinGeckoAPI\n",
    "cg = CoinGeckoAPI()"
   ]
  },
  {
   "cell_type": "code",
   "execution_count": 64,
   "metadata": {},
   "outputs": [],
   "source": [
    "from sklearn.preprocessing import MinMaxScaler\n",
    "from sklearn.model_selection import train_test_split\n",
    "\n",
    "from sklearn.linear_model import LinearRegression\n",
    "from sklearn.metrics import r2_score"
   ]
  },
  {
   "cell_type": "code",
   "execution_count": 3,
   "metadata": {},
   "outputs": [
    {
     "name": "stdout",
     "output_type": "stream",
     "text": [
      "(100, 26)\n"
     ]
    },
    {
     "data": {
      "text/html": [
       "<div>\n",
       "<style scoped>\n",
       "    .dataframe tbody tr th:only-of-type {\n",
       "        vertical-align: middle;\n",
       "    }\n",
       "\n",
       "    .dataframe tbody tr th {\n",
       "        vertical-align: top;\n",
       "    }\n",
       "\n",
       "    .dataframe thead th {\n",
       "        text-align: right;\n",
       "    }\n",
       "</style>\n",
       "<table border=\"1\" class=\"dataframe\">\n",
       "  <thead>\n",
       "    <tr style=\"text-align: right;\">\n",
       "      <th></th>\n",
       "      <th>id</th>\n",
       "      <th>symbol</th>\n",
       "      <th>name</th>\n",
       "      <th>image</th>\n",
       "      <th>current_price</th>\n",
       "      <th>market_cap</th>\n",
       "      <th>market_cap_rank</th>\n",
       "      <th>fully_diluted_valuation</th>\n",
       "      <th>total_volume</th>\n",
       "      <th>high_24h</th>\n",
       "      <th>...</th>\n",
       "      <th>total_supply</th>\n",
       "      <th>max_supply</th>\n",
       "      <th>ath</th>\n",
       "      <th>ath_change_percentage</th>\n",
       "      <th>ath_date</th>\n",
       "      <th>atl</th>\n",
       "      <th>atl_change_percentage</th>\n",
       "      <th>atl_date</th>\n",
       "      <th>roi</th>\n",
       "      <th>last_updated</th>\n",
       "    </tr>\n",
       "  </thead>\n",
       "  <tbody>\n",
       "    <tr>\n",
       "      <th>0</th>\n",
       "      <td>bitcoin</td>\n",
       "      <td>btc</td>\n",
       "      <td>Bitcoin</td>\n",
       "      <td>https://assets.coingecko.com/coins/images/1/la...</td>\n",
       "      <td>23133.000000</td>\n",
       "      <td>445950109132</td>\n",
       "      <td>1</td>\n",
       "      <td>4.857874e+11</td>\n",
       "      <td>3.402881e+10</td>\n",
       "      <td>23316.000</td>\n",
       "      <td>...</td>\n",
       "      <td>2.100000e+07</td>\n",
       "      <td>21000000.0</td>\n",
       "      <td>69045.00</td>\n",
       "      <td>-66.50764</td>\n",
       "      <td>2021-11-10T14:24:11.849Z</td>\n",
       "      <td>67.810000</td>\n",
       "      <td>34002.73449</td>\n",
       "      <td>2013-07-06T00:00:00.000Z</td>\n",
       "      <td>None</td>\n",
       "      <td>2023-01-31T14:50:08.275Z</td>\n",
       "    </tr>\n",
       "    <tr>\n",
       "      <th>1</th>\n",
       "      <td>ethereum</td>\n",
       "      <td>eth</td>\n",
       "      <td>Ethereum</td>\n",
       "      <td>https://assets.coingecko.com/coins/images/279/...</td>\n",
       "      <td>1584.440000</td>\n",
       "      <td>190951089936</td>\n",
       "      <td>2</td>\n",
       "      <td>1.909511e+11</td>\n",
       "      <td>8.742214e+09</td>\n",
       "      <td>1597.980</td>\n",
       "      <td>...</td>\n",
       "      <td>1.205161e+08</td>\n",
       "      <td>NaN</td>\n",
       "      <td>4878.26</td>\n",
       "      <td>-67.51896</td>\n",
       "      <td>2021-11-10T14:24:19.604Z</td>\n",
       "      <td>0.432979</td>\n",
       "      <td>365855.50615</td>\n",
       "      <td>2015-10-20T00:00:00.000Z</td>\n",
       "      <td>{'times': 90.61629800587346, 'currency': 'btc'...</td>\n",
       "      <td>2023-01-31T14:50:24.174Z</td>\n",
       "    </tr>\n",
       "    <tr>\n",
       "      <th>2</th>\n",
       "      <td>tether</td>\n",
       "      <td>usdt</td>\n",
       "      <td>Tether</td>\n",
       "      <td>https://assets.coingecko.com/coins/images/325/...</td>\n",
       "      <td>0.999993</td>\n",
       "      <td>67810849792</td>\n",
       "      <td>3</td>\n",
       "      <td>6.781085e+10</td>\n",
       "      <td>4.411460e+10</td>\n",
       "      <td>1.011</td>\n",
       "      <td>...</td>\n",
       "      <td>6.781134e+10</td>\n",
       "      <td>NaN</td>\n",
       "      <td>1.32</td>\n",
       "      <td>-24.33373</td>\n",
       "      <td>2018-07-24T00:00:00.000Z</td>\n",
       "      <td>0.572521</td>\n",
       "      <td>74.86464</td>\n",
       "      <td>2015-03-02T00:00:00.000Z</td>\n",
       "      <td>None</td>\n",
       "      <td>2023-01-31T14:50:17.707Z</td>\n",
       "    </tr>\n",
       "    <tr>\n",
       "      <th>3</th>\n",
       "      <td>usd-coin</td>\n",
       "      <td>usdc</td>\n",
       "      <td>USD Coin</td>\n",
       "      <td>https://assets.coingecko.com/coins/images/6319...</td>\n",
       "      <td>0.999784</td>\n",
       "      <td>42696087305</td>\n",
       "      <td>4</td>\n",
       "      <td>4.269271e+10</td>\n",
       "      <td>3.043129e+09</td>\n",
       "      <td>1.016</td>\n",
       "      <td>...</td>\n",
       "      <td>4.270108e+10</td>\n",
       "      <td>NaN</td>\n",
       "      <td>1.17</td>\n",
       "      <td>-14.68524</td>\n",
       "      <td>2019-05-08T00:40:28.300Z</td>\n",
       "      <td>0.891848</td>\n",
       "      <td>12.18184</td>\n",
       "      <td>2021-05-19T13:14:05.611Z</td>\n",
       "      <td>None</td>\n",
       "      <td>2023-01-31T14:50:31.751Z</td>\n",
       "    </tr>\n",
       "    <tr>\n",
       "      <th>4</th>\n",
       "      <td>binancecoin</td>\n",
       "      <td>bnb</td>\n",
       "      <td>BNB</td>\n",
       "      <td>https://assets.coingecko.com/coins/images/825/...</td>\n",
       "      <td>312.000000</td>\n",
       "      <td>42091509989</td>\n",
       "      <td>5</td>\n",
       "      <td>6.239917e+10</td>\n",
       "      <td>5.683299e+08</td>\n",
       "      <td>313.820</td>\n",
       "      <td>...</td>\n",
       "      <td>1.572196e+08</td>\n",
       "      <td>200000000.0</td>\n",
       "      <td>686.31</td>\n",
       "      <td>-54.55972</td>\n",
       "      <td>2021-05-10T07:24:17.097Z</td>\n",
       "      <td>0.039818</td>\n",
       "      <td>783118.59824</td>\n",
       "      <td>2017-10-19T00:00:00.000Z</td>\n",
       "      <td>None</td>\n",
       "      <td>2023-01-31T14:50:01.291Z</td>\n",
       "    </tr>\n",
       "  </tbody>\n",
       "</table>\n",
       "<p>5 rows × 26 columns</p>\n",
       "</div>"
      ],
      "text/plain": [
       "            id symbol      name  \\\n",
       "0      bitcoin    btc   Bitcoin   \n",
       "1     ethereum    eth  Ethereum   \n",
       "2       tether   usdt    Tether   \n",
       "3     usd-coin   usdc  USD Coin   \n",
       "4  binancecoin    bnb       BNB   \n",
       "\n",
       "                                               image  current_price  \\\n",
       "0  https://assets.coingecko.com/coins/images/1/la...   23133.000000   \n",
       "1  https://assets.coingecko.com/coins/images/279/...    1584.440000   \n",
       "2  https://assets.coingecko.com/coins/images/325/...       0.999993   \n",
       "3  https://assets.coingecko.com/coins/images/6319...       0.999784   \n",
       "4  https://assets.coingecko.com/coins/images/825/...     312.000000   \n",
       "\n",
       "     market_cap  market_cap_rank  fully_diluted_valuation  total_volume  \\\n",
       "0  445950109132                1             4.857874e+11  3.402881e+10   \n",
       "1  190951089936                2             1.909511e+11  8.742214e+09   \n",
       "2   67810849792                3             6.781085e+10  4.411460e+10   \n",
       "3   42696087305                4             4.269271e+10  3.043129e+09   \n",
       "4   42091509989                5             6.239917e+10  5.683299e+08   \n",
       "\n",
       "    high_24h  ...  total_supply   max_supply       ath  ath_change_percentage  \\\n",
       "0  23316.000  ...  2.100000e+07   21000000.0  69045.00              -66.50764   \n",
       "1   1597.980  ...  1.205161e+08          NaN   4878.26              -67.51896   \n",
       "2      1.011  ...  6.781134e+10          NaN      1.32              -24.33373   \n",
       "3      1.016  ...  4.270108e+10          NaN      1.17              -14.68524   \n",
       "4    313.820  ...  1.572196e+08  200000000.0    686.31              -54.55972   \n",
       "\n",
       "                   ath_date        atl  atl_change_percentage  \\\n",
       "0  2021-11-10T14:24:11.849Z  67.810000            34002.73449   \n",
       "1  2021-11-10T14:24:19.604Z   0.432979           365855.50615   \n",
       "2  2018-07-24T00:00:00.000Z   0.572521               74.86464   \n",
       "3  2019-05-08T00:40:28.300Z   0.891848               12.18184   \n",
       "4  2021-05-10T07:24:17.097Z   0.039818           783118.59824   \n",
       "\n",
       "                   atl_date  \\\n",
       "0  2013-07-06T00:00:00.000Z   \n",
       "1  2015-10-20T00:00:00.000Z   \n",
       "2  2015-03-02T00:00:00.000Z   \n",
       "3  2021-05-19T13:14:05.611Z   \n",
       "4  2017-10-19T00:00:00.000Z   \n",
       "\n",
       "                                                 roi              last_updated  \n",
       "0                                               None  2023-01-31T14:50:08.275Z  \n",
       "1  {'times': 90.61629800587346, 'currency': 'btc'...  2023-01-31T14:50:24.174Z  \n",
       "2                                               None  2023-01-31T14:50:17.707Z  \n",
       "3                                               None  2023-01-31T14:50:31.751Z  \n",
       "4                                               None  2023-01-31T14:50:01.291Z  \n",
       "\n",
       "[5 rows x 26 columns]"
      ]
     },
     "execution_count": 3,
     "metadata": {},
     "output_type": "execute_result"
    }
   ],
   "source": [
    "data = cg.get_coins_markets(vs_currency='usd')\n",
    "\n",
    "df = pd.DataFrame(data)\n",
    "print(df.shape)\n",
    "df.head()"
   ]
  },
  {
   "cell_type": "code",
   "execution_count": 4,
   "metadata": {},
   "outputs": [
    {
     "data": {
      "text/plain": [
       "<AxesSubplot:xlabel='market_cap', ylabel='total_volume'>"
      ]
     },
     "execution_count": 4,
     "metadata": {},
     "output_type": "execute_result"
    },
    {
     "data": {
      "image/png": "[encoded data removed]",
      "text/plain": [
       "<Figure size 720x360 with 1 Axes>"
      ]
     },
     "metadata": {
      "needs_background": "light"
     },
     "output_type": "display_data"
    }
   ],
   "source": [
    "plt.figure(figsize=(10,5))\n",
    "sns.scatterplot(x=\"market_cap\", y='total_volume', data=df)"
   ]
  },
  {
   "cell_type": "code",
   "execution_count": 29,
   "metadata": {},
   "outputs": [
    {
     "data": {
      "text/plain": [
       "<AxesSubplot:xlabel='market_cap', ylabel='total_volume'>"
      ]
     },
     "execution_count": 29,
     "metadata": {},
     "output_type": "execute_result"
    },
    {
     "data": {
      "image/png": "[encoded data removed]",
      "text/plain": [
       "<Figure size 720x360 with 1 Axes>"
      ]
     },
     "metadata": {
      "needs_background": "light"
     },
     "output_type": "display_data"
    }
   ],
   "source": [
    "plt.figure(figsize=(10,5))\n",
    "sns.regplot(x=np.log(df[\"market_cap\"]), y=np.log(df['total_volume']))"
   ]
  },
  {
   "cell_type": "code",
   "execution_count": 5,
   "metadata": {},
   "outputs": [
    {
     "data": {
      "text/html": [
       "<div>\n",
       "<style scoped>\n",
       "    .dataframe tbody tr th:only-of-type {\n",
       "        vertical-align: middle;\n",
       "    }\n",
       "\n",
       "    .dataframe tbody tr th {\n",
       "        vertical-align: top;\n",
       "    }\n",
       "\n",
       "    .dataframe thead th {\n",
       "        text-align: right;\n",
       "    }\n",
       "</style>\n",
       "<table border=\"1\" class=\"dataframe\">\n",
       "  <thead>\n",
       "    <tr style=\"text-align: right;\">\n",
       "      <th></th>\n",
       "      <th>market_cap_scaled</th>\n",
       "      <th>total_volume_scaled</th>\n",
       "    </tr>\n",
       "  </thead>\n",
       "  <tbody>\n",
       "    <tr>\n",
       "      <th>count</th>\n",
       "      <td>100.000000</td>\n",
       "      <td>100.000000</td>\n",
       "    </tr>\n",
       "    <tr>\n",
       "      <th>mean</th>\n",
       "      <td>0.022041</td>\n",
       "      <td>0.025943</td>\n",
       "    </tr>\n",
       "    <tr>\n",
       "      <th>std</th>\n",
       "      <td>0.109314</td>\n",
       "      <td>0.128179</td>\n",
       "    </tr>\n",
       "    <tr>\n",
       "      <th>min</th>\n",
       "      <td>0.000000</td>\n",
       "      <td>0.000000</td>\n",
       "    </tr>\n",
       "    <tr>\n",
       "      <th>25%</th>\n",
       "      <td>0.000376</td>\n",
       "      <td>0.000467</td>\n",
       "    </tr>\n",
       "    <tr>\n",
       "      <th>50%</th>\n",
       "      <td>0.001325</td>\n",
       "      <td>0.001299</td>\n",
       "    </tr>\n",
       "    <tr>\n",
       "      <th>75%</th>\n",
       "      <td>0.006259</td>\n",
       "      <td>0.004234</td>\n",
       "    </tr>\n",
       "    <tr>\n",
       "      <th>max</th>\n",
       "      <td>1.000000</td>\n",
       "      <td>1.000000</td>\n",
       "    </tr>\n",
       "  </tbody>\n",
       "</table>\n",
       "</div>"
      ],
      "text/plain": [
       "       market_cap_scaled  total_volume_scaled\n",
       "count         100.000000           100.000000\n",
       "mean            0.022041             0.025943\n",
       "std             0.109314             0.128179\n",
       "min             0.000000             0.000000\n",
       "25%             0.000376             0.000467\n",
       "50%             0.001325             0.001299\n",
       "75%             0.006259             0.004234\n",
       "max             1.000000             1.000000"
      ]
     },
     "execution_count": 5,
     "metadata": {},
     "output_type": "execute_result"
    }
   ],
   "source": [
    "scaler = MinMaxScaler()\n",
    "\n",
    "df[[\"market_cap_scaled\", \"total_volume_scaled\"]] = scaler.fit_transform(df[[\"market_cap\", \"total_volume\"]])\n",
    "df[[\"market_cap_scaled\", \"total_volume_scaled\"]].describe()"
   ]
  },
  {
   "cell_type": "code",
   "execution_count": 24,
   "metadata": {},
   "outputs": [
    {
     "data": {
      "text/plain": [
       "<AxesSubplot:xlabel='market_cap_scaled', ylabel='total_volume_scaled'>"
      ]
     },
     "execution_count": 24,
     "metadata": {},
     "output_type": "execute_result"
    },
    {
     "data": {
      "image/png": "[encoded data removed]",
      "text/plain": [
       "<Figure size 1440x576 with 1 Axes>"
      ]
     },
     "metadata": {
      "needs_background": "light"
     },
     "output_type": "display_data"
    }
   ],
   "source": [
    "plt.figure(figsize=(20,8))\n",
    "sns.scatterplot(x=\"market_cap_scaled\", y='total_volume_scaled', data=df, ) #hue=\"name\""
   ]
  },
  {
   "cell_type": "code",
   "execution_count": 26,
   "metadata": {},
   "outputs": [
    {
     "data": {
      "text/plain": [
       "<AxesSubplot:xlabel='market_cap_scaled', ylabel='total_volume_scaled'>"
      ]
     },
     "execution_count": 26,
     "metadata": {},
     "output_type": "execute_result"
    },
    {
     "data": {
      "image/png": "[encoded data removed]",
      "text/plain": [
       "<Figure size 1440x576 with 1 Axes>"
      ]
     },
     "metadata": {
      "needs_background": "light"
     },
     "output_type": "display_data"
    }
   ],
   "source": [
    "plt.figure(figsize=(20,8))\n",
    "sns.scatterplot(x=\"market_cap_scaled\", y='total_volume_scaled', data=df.iloc[10:], ) "
   ]
  },
  {
   "cell_type": "code",
   "execution_count": 7,
   "metadata": {},
   "outputs": [],
   "source": [
    "df[\"mc_by_volume\"] = df[\"market_cap_scaled\"] / df['total_volume_scaled']\n",
    "df[\"volume_by_mc\"] = df[\"total_volume_scaled\"] / df['market_cap_scaled']\n",
    "df.replace([np.inf, -np.inf], 0, inplace=True)"
   ]
  },
  {
   "cell_type": "code",
   "execution_count": 8,
   "metadata": {},
   "outputs": [
    {
     "data": {
      "image/png": "[encoded data removed]",
      "text/plain": [
       "<Figure size 936x360 with 2 Axes>"
      ]
     },
     "metadata": {
      "needs_background": "light"
     },
     "output_type": "display_data"
    }
   ],
   "source": [
    "plt.figure(figsize=(13,5))\n",
    " \n",
    "plt.subplot(1,2,1)\n",
    "sns.kdeplot(df[\"mc_by_volume\"])\n",
    "\n",
    "plt.subplot(1,2,2)\n",
    "sns.kdeplot(df[\"volume_by_mc\"])\n",
    "\n",
    "plt.show()"
   ]
  },
  {
   "cell_type": "code",
   "execution_count": 9,
   "metadata": {},
   "outputs": [
    {
     "data": {
      "text/html": [
       "<div>\n",
       "<style scoped>\n",
       "    .dataframe tbody tr th:only-of-type {\n",
       "        vertical-align: middle;\n",
       "    }\n",
       "\n",
       "    .dataframe tbody tr th {\n",
       "        vertical-align: top;\n",
       "    }\n",
       "\n",
       "    .dataframe thead th {\n",
       "        text-align: right;\n",
       "    }\n",
       "</style>\n",
       "<table border=\"1\" class=\"dataframe\">\n",
       "  <thead>\n",
       "    <tr style=\"text-align: right;\">\n",
       "      <th></th>\n",
       "      <th>mc_by_volume</th>\n",
       "      <th>volume_by_mc</th>\n",
       "    </tr>\n",
       "  </thead>\n",
       "  <tbody>\n",
       "    <tr>\n",
       "      <th>count</th>\n",
       "      <td>100.000000</td>\n",
       "      <td>100.000000</td>\n",
       "    </tr>\n",
       "    <tr>\n",
       "      <th>mean</th>\n",
       "      <td>110.169525</td>\n",
       "      <td>17.216372</td>\n",
       "    </tr>\n",
       "    <tr>\n",
       "      <th>std</th>\n",
       "      <td>728.111266</td>\n",
       "      <td>122.650504</td>\n",
       "    </tr>\n",
       "    <tr>\n",
       "      <th>min</th>\n",
       "      <td>0.000000</td>\n",
       "      <td>0.000000</td>\n",
       "    </tr>\n",
       "    <tr>\n",
       "      <th>25%</th>\n",
       "      <td>0.429676</td>\n",
       "      <td>0.340986</td>\n",
       "    </tr>\n",
       "    <tr>\n",
       "      <th>50%</th>\n",
       "      <td>1.102847</td>\n",
       "      <td>0.824775</td>\n",
       "    </tr>\n",
       "    <tr>\n",
       "      <th>75%</th>\n",
       "      <td>2.848351</td>\n",
       "      <td>2.163693</td>\n",
       "    </tr>\n",
       "    <tr>\n",
       "      <th>max</th>\n",
       "      <td>5699.431444</td>\n",
       "      <td>1207.867489</td>\n",
       "    </tr>\n",
       "  </tbody>\n",
       "</table>\n",
       "</div>"
      ],
      "text/plain": [
       "       mc_by_volume  volume_by_mc\n",
       "count    100.000000    100.000000\n",
       "mean     110.169525     17.216372\n",
       "std      728.111266    122.650504\n",
       "min        0.000000      0.000000\n",
       "25%        0.429676      0.340986\n",
       "50%        1.102847      0.824775\n",
       "75%        2.848351      2.163693\n",
       "max     5699.431444   1207.867489"
      ]
     },
     "execution_count": 9,
     "metadata": {},
     "output_type": "execute_result"
    }
   ],
   "source": [
    "df[[\"mc_by_volume\", \"volume_by_mc\"]].describe()"
   ]
  },
  {
   "cell_type": "code",
   "execution_count": 10,
   "metadata": {},
   "outputs": [
    {
     "data": {
      "text/html": [
       "<div>\n",
       "<style scoped>\n",
       "    .dataframe tbody tr th:only-of-type {\n",
       "        vertical-align: middle;\n",
       "    }\n",
       "\n",
       "    .dataframe tbody tr th {\n",
       "        vertical-align: top;\n",
       "    }\n",
       "\n",
       "    .dataframe thead th {\n",
       "        text-align: right;\n",
       "    }\n",
       "</style>\n",
       "<table border=\"1\" class=\"dataframe\">\n",
       "  <thead>\n",
       "    <tr style=\"text-align: right;\">\n",
       "      <th></th>\n",
       "      <th>id</th>\n",
       "      <th>symbol</th>\n",
       "      <th>name</th>\n",
       "      <th>image</th>\n",
       "      <th>current_price</th>\n",
       "      <th>market_cap</th>\n",
       "      <th>market_cap_rank</th>\n",
       "      <th>fully_diluted_valuation</th>\n",
       "      <th>total_volume</th>\n",
       "      <th>high_24h</th>\n",
       "      <th>...</th>\n",
       "      <th>ath_date</th>\n",
       "      <th>atl</th>\n",
       "      <th>atl_change_percentage</th>\n",
       "      <th>atl_date</th>\n",
       "      <th>roi</th>\n",
       "      <th>last_updated</th>\n",
       "      <th>market_cap_scaled</th>\n",
       "      <th>total_volume_scaled</th>\n",
       "      <th>mc_by_volume</th>\n",
       "      <th>volume_by_mc</th>\n",
       "    </tr>\n",
       "  </thead>\n",
       "  <tbody>\n",
       "    <tr>\n",
       "      <th>79</th>\n",
       "      <td>cdai</td>\n",
       "      <td>cdai</td>\n",
       "      <td>cDAI</td>\n",
       "      <td>https://assets.coingecko.com/coins/images/9281...</td>\n",
       "      <td>0.02212</td>\n",
       "      <td>560167219</td>\n",
       "      <td>80</td>\n",
       "      <td>560167153.00000</td>\n",
       "      <td>2229.20000</td>\n",
       "      <td>0.02220</td>\n",
       "      <td>...</td>\n",
       "      <td>2020-10-12T21:29:00.007Z</td>\n",
       "      <td>0.00729</td>\n",
       "      <td>203.47141</td>\n",
       "      <td>2020-03-18T04:29:40.819Z</td>\n",
       "      <td>None</td>\n",
       "      <td>2023-01-31T14:49:29.449Z</td>\n",
       "      <td>0.00029</td>\n",
       "      <td>0.00000</td>\n",
       "      <td>5699.43144</td>\n",
       "      <td>0.00018</td>\n",
       "    </tr>\n",
       "    <tr>\n",
       "      <th>94</th>\n",
       "      <td>compound-ether</td>\n",
       "      <td>ceth</td>\n",
       "      <td>cETH</td>\n",
       "      <td>https://assets.coingecko.com/coins/images/1064...</td>\n",
       "      <td>31.80000</td>\n",
       "      <td>459147910</td>\n",
       "      <td>95</td>\n",
       "      <td>459203746.00000</td>\n",
       "      <td>587.84000</td>\n",
       "      <td>32.07000</td>\n",
       "      <td>...</td>\n",
       "      <td>2021-11-21T12:39:57.508Z</td>\n",
       "      <td>1.89000</td>\n",
       "      <td>1585.96780</td>\n",
       "      <td>2020-03-13T02:22:33.711Z</td>\n",
       "      <td>None</td>\n",
       "      <td>2023-01-31T14:49:38.398Z</td>\n",
       "      <td>0.00006</td>\n",
       "      <td>0.00000</td>\n",
       "      <td>4586.25444</td>\n",
       "      <td>0.00022</td>\n",
       "    </tr>\n",
       "    <tr>\n",
       "      <th>24</th>\n",
       "      <td>leo-token</td>\n",
       "      <td>leo</td>\n",
       "      <td>LEO Token</td>\n",
       "      <td>https://assets.coingecko.com/coins/images/8418...</td>\n",
       "      <td>3.53000</td>\n",
       "      <td>3287615520</td>\n",
       "      <td>25</td>\n",
       "      <td>nan</td>\n",
       "      <td>676018.00000</td>\n",
       "      <td>3.65000</td>\n",
       "      <td>...</td>\n",
       "      <td>2022-02-08T17:40:10.285Z</td>\n",
       "      <td>0.79986</td>\n",
       "      <td>340.09469</td>\n",
       "      <td>2019-12-24T15:14:35.376Z</td>\n",
       "      <td>None</td>\n",
       "      <td>2023-01-31T14:50:30.153Z</td>\n",
       "      <td>0.00641</td>\n",
       "      <td>0.00002</td>\n",
       "      <td>418.24804</td>\n",
       "      <td>0.00239</td>\n",
       "    </tr>\n",
       "  </tbody>\n",
       "</table>\n",
       "<p>3 rows × 30 columns</p>\n",
       "</div>"
      ],
      "text/plain": [
       "                id symbol       name  \\\n",
       "79            cdai   cdai       cDAI   \n",
       "94  compound-ether   ceth       cETH   \n",
       "24       leo-token    leo  LEO Token   \n",
       "\n",
       "                                                image  current_price  \\\n",
       "79  https://assets.coingecko.com/coins/images/9281...        0.02212   \n",
       "94  https://assets.coingecko.com/coins/images/1064...       31.80000   \n",
       "24  https://assets.coingecko.com/coins/images/8418...        3.53000   \n",
       "\n",
       "    market_cap  market_cap_rank  fully_diluted_valuation  total_volume  \\\n",
       "79   560167219               80          560167153.00000    2229.20000   \n",
       "94   459147910               95          459203746.00000     587.84000   \n",
       "24  3287615520               25                      nan  676018.00000   \n",
       "\n",
       "    high_24h  ...                  ath_date     atl  atl_change_percentage  \\\n",
       "79   0.02220  ...  2020-10-12T21:29:00.007Z 0.00729              203.47141   \n",
       "94  32.07000  ...  2021-11-21T12:39:57.508Z 1.89000             1585.96780   \n",
       "24   3.65000  ...  2022-02-08T17:40:10.285Z 0.79986              340.09469   \n",
       "\n",
       "                    atl_date   roi              last_updated  \\\n",
       "79  2020-03-18T04:29:40.819Z  None  2023-01-31T14:49:29.449Z   \n",
       "94  2020-03-13T02:22:33.711Z  None  2023-01-31T14:49:38.398Z   \n",
       "24  2019-12-24T15:14:35.376Z  None  2023-01-31T14:50:30.153Z   \n",
       "\n",
       "    market_cap_scaled  total_volume_scaled  mc_by_volume  volume_by_mc  \n",
       "79            0.00029              0.00000    5699.43144       0.00018  \n",
       "94            0.00006              0.00000    4586.25444       0.00022  \n",
       "24            0.00641              0.00002     418.24804       0.00239  \n",
       "\n",
       "[3 rows x 30 columns]"
      ]
     },
     "execution_count": 10,
     "metadata": {},
     "output_type": "execute_result"
    }
   ],
   "source": [
    "pd.set_option('display.float_format', lambda x: '%.5f' % x)\n",
    "\n",
    "df.nlargest(3, \"mc_by_volume\")"
   ]
  },
  {
   "cell_type": "code",
   "execution_count": 11,
   "metadata": {},
   "outputs": [
    {
     "data": {
      "text/plain": [
       "<AxesSubplot:xlabel='market_cap_scaled', ylabel='total_volume_scaled'>"
      ]
     },
     "execution_count": 11,
     "metadata": {},
     "output_type": "execute_result"
    },
    {
     "data": {
      "image/png": "[encoded data removed]",
      "text/plain": [
       "<Figure size 720x360 with 1 Axes>"
      ]
     },
     "metadata": {
      "needs_background": "light"
     },
     "output_type": "display_data"
    }
   ],
   "source": [
    "plt.figure(figsize=(10,5))\n",
    "sns.scatterplot(x=\"market_cap_scaled\", y='total_volume_scaled', data=df.nlargest(3, \"mc_by_volume\"), hue=\"name\")"
   ]
  },
  {
   "cell_type": "code",
   "execution_count": 12,
   "metadata": {},
   "outputs": [],
   "source": [
    "outlier_quans = df['mc_by_volume'].quantile([0.1, 0.75, 0.8, 0.9, 0.95])"
   ]
  },
  {
   "cell_type": "code",
   "execution_count": 13,
   "metadata": {},
   "outputs": [
    {
     "data": {
      "text/html": [
       "<div>\n",
       "<style scoped>\n",
       "    .dataframe tbody tr th:only-of-type {\n",
       "        vertical-align: middle;\n",
       "    }\n",
       "\n",
       "    .dataframe tbody tr th {\n",
       "        vertical-align: top;\n",
       "    }\n",
       "\n",
       "    .dataframe thead th {\n",
       "        text-align: right;\n",
       "    }\n",
       "</style>\n",
       "<table border=\"1\" class=\"dataframe\">\n",
       "  <thead>\n",
       "    <tr style=\"text-align: right;\">\n",
       "      <th></th>\n",
       "      <th>id</th>\n",
       "      <th>symbol</th>\n",
       "      <th>name</th>\n",
       "      <th>image</th>\n",
       "      <th>current_price</th>\n",
       "      <th>market_cap</th>\n",
       "      <th>market_cap_rank</th>\n",
       "      <th>fully_diluted_valuation</th>\n",
       "      <th>total_volume</th>\n",
       "      <th>high_24h</th>\n",
       "      <th>...</th>\n",
       "      <th>ath_date</th>\n",
       "      <th>atl</th>\n",
       "      <th>atl_change_percentage</th>\n",
       "      <th>atl_date</th>\n",
       "      <th>roi</th>\n",
       "      <th>last_updated</th>\n",
       "      <th>market_cap_scaled</th>\n",
       "      <th>total_volume_scaled</th>\n",
       "      <th>mc_by_volume</th>\n",
       "      <th>volume_by_mc</th>\n",
       "    </tr>\n",
       "  </thead>\n",
       "  <tbody>\n",
       "    <tr>\n",
       "      <th>24</th>\n",
       "      <td>leo-token</td>\n",
       "      <td>leo</td>\n",
       "      <td>LEO Token</td>\n",
       "      <td>https://assets.coingecko.com/coins/images/8418...</td>\n",
       "      <td>3.53000</td>\n",
       "      <td>3287615520</td>\n",
       "      <td>25</td>\n",
       "      <td>nan</td>\n",
       "      <td>676018.00000</td>\n",
       "      <td>3.65000</td>\n",
       "      <td>...</td>\n",
       "      <td>2022-02-08T17:40:10.285Z</td>\n",
       "      <td>0.79986</td>\n",
       "      <td>340.09469</td>\n",
       "      <td>2019-12-24T15:14:35.376Z</td>\n",
       "      <td>None</td>\n",
       "      <td>2023-01-31T14:50:30.153Z</td>\n",
       "      <td>0.00641</td>\n",
       "      <td>0.00002</td>\n",
       "      <td>418.24804</td>\n",
       "      <td>0.00239</td>\n",
       "    </tr>\n",
       "    <tr>\n",
       "      <th>56</th>\n",
       "      <td>kucoin-shares</td>\n",
       "      <td>kcs</td>\n",
       "      <td>KuCoin</td>\n",
       "      <td>https://assets.coingecko.com/coins/images/1047...</td>\n",
       "      <td>8.25000</td>\n",
       "      <td>803241350</td>\n",
       "      <td>57</td>\n",
       "      <td>nan</td>\n",
       "      <td>1005140.00000</td>\n",
       "      <td>8.35000</td>\n",
       "      <td>...</td>\n",
       "      <td>2021-12-01T15:09:35.541Z</td>\n",
       "      <td>0.34286</td>\n",
       "      <td>2307.27502</td>\n",
       "      <td>2019-02-07T00:00:00.000Z</td>\n",
       "      <td>None</td>\n",
       "      <td>2023-01-31T14:50:19.164Z</td>\n",
       "      <td>0.00083</td>\n",
       "      <td>0.00002</td>\n",
       "      <td>36.55366</td>\n",
       "      <td>0.02736</td>\n",
       "    </tr>\n",
       "    <tr>\n",
       "      <th>70</th>\n",
       "      <td>gatechain-token</td>\n",
       "      <td>gt</td>\n",
       "      <td>Gate</td>\n",
       "      <td>https://assets.coingecko.com/coins/images/8183...</td>\n",
       "      <td>4.41000</td>\n",
       "      <td>641374510</td>\n",
       "      <td>71</td>\n",
       "      <td>nan</td>\n",
       "      <td>480987.00000</td>\n",
       "      <td>4.43000</td>\n",
       "      <td>...</td>\n",
       "      <td>2021-05-12T11:39:16.531Z</td>\n",
       "      <td>0.25754</td>\n",
       "      <td>1613.04315</td>\n",
       "      <td>2020-03-13T02:18:02.481Z</td>\n",
       "      <td>None</td>\n",
       "      <td>2023-01-31T14:49:34.083Z</td>\n",
       "      <td>0.00047</td>\n",
       "      <td>0.00001</td>\n",
       "      <td>43.06508</td>\n",
       "      <td>0.02322</td>\n",
       "    </tr>\n",
       "    <tr>\n",
       "      <th>79</th>\n",
       "      <td>cdai</td>\n",
       "      <td>cdai</td>\n",
       "      <td>cDAI</td>\n",
       "      <td>https://assets.coingecko.com/coins/images/9281...</td>\n",
       "      <td>0.02212</td>\n",
       "      <td>560167219</td>\n",
       "      <td>80</td>\n",
       "      <td>560167153.00000</td>\n",
       "      <td>2229.20000</td>\n",
       "      <td>0.02220</td>\n",
       "      <td>...</td>\n",
       "      <td>2020-10-12T21:29:00.007Z</td>\n",
       "      <td>0.00729</td>\n",
       "      <td>203.47141</td>\n",
       "      <td>2020-03-18T04:29:40.819Z</td>\n",
       "      <td>None</td>\n",
       "      <td>2023-01-31T14:49:29.449Z</td>\n",
       "      <td>0.00029</td>\n",
       "      <td>0.00000</td>\n",
       "      <td>5699.43144</td>\n",
       "      <td>0.00018</td>\n",
       "    </tr>\n",
       "    <tr>\n",
       "      <th>94</th>\n",
       "      <td>compound-ether</td>\n",
       "      <td>ceth</td>\n",
       "      <td>cETH</td>\n",
       "      <td>https://assets.coingecko.com/coins/images/1064...</td>\n",
       "      <td>31.80000</td>\n",
       "      <td>459147910</td>\n",
       "      <td>95</td>\n",
       "      <td>459203746.00000</td>\n",
       "      <td>587.84000</td>\n",
       "      <td>32.07000</td>\n",
       "      <td>...</td>\n",
       "      <td>2021-11-21T12:39:57.508Z</td>\n",
       "      <td>1.89000</td>\n",
       "      <td>1585.96780</td>\n",
       "      <td>2020-03-13T02:22:33.711Z</td>\n",
       "      <td>None</td>\n",
       "      <td>2023-01-31T14:49:38.398Z</td>\n",
       "      <td>0.00006</td>\n",
       "      <td>0.00000</td>\n",
       "      <td>4586.25444</td>\n",
       "      <td>0.00022</td>\n",
       "    </tr>\n",
       "  </tbody>\n",
       "</table>\n",
       "<p>5 rows × 30 columns</p>\n",
       "</div>"
      ],
      "text/plain": [
       "                 id symbol       name  \\\n",
       "24        leo-token    leo  LEO Token   \n",
       "56    kucoin-shares    kcs     KuCoin   \n",
       "70  gatechain-token     gt       Gate   \n",
       "79             cdai   cdai       cDAI   \n",
       "94   compound-ether   ceth       cETH   \n",
       "\n",
       "                                                image  current_price  \\\n",
       "24  https://assets.coingecko.com/coins/images/8418...        3.53000   \n",
       "56  https://assets.coingecko.com/coins/images/1047...        8.25000   \n",
       "70  https://assets.coingecko.com/coins/images/8183...        4.41000   \n",
       "79  https://assets.coingecko.com/coins/images/9281...        0.02212   \n",
       "94  https://assets.coingecko.com/coins/images/1064...       31.80000   \n",
       "\n",
       "    market_cap  market_cap_rank  fully_diluted_valuation  total_volume  \\\n",
       "24  3287615520               25                      nan  676018.00000   \n",
       "56   803241350               57                      nan 1005140.00000   \n",
       "70   641374510               71                      nan  480987.00000   \n",
       "79   560167219               80          560167153.00000    2229.20000   \n",
       "94   459147910               95          459203746.00000     587.84000   \n",
       "\n",
       "    high_24h  ...                  ath_date     atl  atl_change_percentage  \\\n",
       "24   3.65000  ...  2022-02-08T17:40:10.285Z 0.79986              340.09469   \n",
       "56   8.35000  ...  2021-12-01T15:09:35.541Z 0.34286             2307.27502   \n",
       "70   4.43000  ...  2021-05-12T11:39:16.531Z 0.25754             1613.04315   \n",
       "79   0.02220  ...  2020-10-12T21:29:00.007Z 0.00729              203.47141   \n",
       "94  32.07000  ...  2021-11-21T12:39:57.508Z 1.89000             1585.96780   \n",
       "\n",
       "                    atl_date   roi              last_updated  \\\n",
       "24  2019-12-24T15:14:35.376Z  None  2023-01-31T14:50:30.153Z   \n",
       "56  2019-02-07T00:00:00.000Z  None  2023-01-31T14:50:19.164Z   \n",
       "70  2020-03-13T02:18:02.481Z  None  2023-01-31T14:49:34.083Z   \n",
       "79  2020-03-18T04:29:40.819Z  None  2023-01-31T14:49:29.449Z   \n",
       "94  2020-03-13T02:22:33.711Z  None  2023-01-31T14:49:38.398Z   \n",
       "\n",
       "    market_cap_scaled  total_volume_scaled  mc_by_volume  volume_by_mc  \n",
       "24            0.00641              0.00002     418.24804       0.00239  \n",
       "56            0.00083              0.00002      36.55366       0.02736  \n",
       "70            0.00047              0.00001      43.06508       0.02322  \n",
       "79            0.00029              0.00000    5699.43144       0.00018  \n",
       "94            0.00006              0.00000    4586.25444       0.00022  \n",
       "\n",
       "[5 rows x 30 columns]"
      ]
     },
     "execution_count": 13,
     "metadata": {},
     "output_type": "execute_result"
    }
   ],
   "source": [
    "df[df[\"mc_by_volume\"] > outlier_quans[0.95]]"
   ]
  },
  {
   "cell_type": "code",
   "execution_count": 22,
   "metadata": {},
   "outputs": [
    {
     "data": {
      "text/plain": [
       "array(['cDAI', 'cETH', 'LEO Token', 'Gate', 'KuCoin', 'OKB',\n",
       "       'Gemini Dollar', 'Pax Dollar', 'Radix', 'Cronos', 'Toncoin', 'BNB',\n",
       "       'Frax', 'Quant', 'Uniswap', 'Huobi', 'Rocket Pool',\n",
       "       'Lido Staked Ether', 'Cardano', 'BTSE Token'], dtype=object)"
      ]
     },
     "execution_count": 22,
     "metadata": {},
     "output_type": "execute_result"
    }
   ],
   "source": [
    "df.nlargest(20, columns=\"mc_by_volume\")[\"name\"].values"
   ]
  },
  {
   "cell_type": "code",
   "execution_count": 82,
   "metadata": {},
   "outputs": [
    {
     "name": "stdout",
     "output_type": "stream",
     "text": [
      "(70, 1) (30, 1) (70,) (30,)\n",
      "-2.912016221194934\n",
      "0.9379619980179706\n"
     ]
    }
   ],
   "source": [
    "X = df[[\"market_cap_scaled\"]]\n",
    "y = df[\"total_volume_scaled\"]\n",
    "\n",
    "X_train, X_test, y_train, y_test = train_test_split(X,y, train_size=0.7, random_state=42)\n",
    "print(X_train.shape, X_test.shape, y_train.shape, y_test.shape)\n",
    "\n",
    "lr = LinearRegression()\n",
    "lr.fit(X_train, y_train)\n",
    "\n",
    "print(r2_score(X_train, y_train))\n",
    "\n",
    "print(r2_score(X_test, y_test))"
   ]
  },
  {
   "cell_type": "code",
   "execution_count": 83,
   "metadata": {},
   "outputs": [
    {
     "name": "stdout",
     "output_type": "stream",
     "text": [
      "(70, 1) (30, 1) (70,) (30,)\n",
      "-11.364529683681068\n",
      "-4.669501916072056\n"
     ]
    }
   ],
   "source": [
    "X = np.log(df[[\"market_cap\"]])\n",
    "y = np.log(df[\"total_volume\"])\n",
    "\n",
    "X.replace([np.inf, -np.inf], 0, inplace=True)\n",
    "y.replace([np.inf, -np.inf], 0, inplace=True)\n",
    "\n",
    "X_train, X_test, y_train, y_test = train_test_split(X,y, train_size=0.7, random_state=42)\n",
    "print(X_train.shape, X_test.shape, y_train.shape, y_test.shape)\n",
    "\n",
    "lr = LinearRegression()\n",
    "lr.fit(X_train, y_train)\n",
    "\n",
    "print(r2_score(X_train, y_train))\n",
    "print(r2_score(X_test, y_test))"
   ]
  },
  {
   "cell_type": "code",
   "execution_count": 1,
   "metadata": {},
   "outputs": [
    {
     "name": "stdout",
     "output_type": "stream",
     "text": [
      "Collecting python-telegram-bot\n",
      "  Downloading python_telegram_bot-20.7-py3-none-any.whl (552 kB)\n",
      "\u001b[2K     \u001b[90m━━━━━━━━━━━━━━━━━━━━━━━━━━━━━━━━━━━━━━━\u001b[0m \u001b[32m552.6/552.6 KB\u001b[0m \u001b[31m2.1 MB/s\u001b[0m eta \u001b[36m0:00:00\u001b[0m00:01\u001b[0m00:01\u001b[0m\n",
      "\u001b[?25hCollecting httpx~=0.25.2\n",
      "  Downloading httpx-0.25.2-py3-none-any.whl (74 kB)\n",
      "\u001b[2K     \u001b[90m━━━━━━━━━━━━━━━━━━━━━━━━━━━━━━━━━━━━━━━━\u001b[0m \u001b[32m75.0/75.0 KB\u001b[0m \u001b[31m2.7 MB/s\u001b[0m eta \u001b[36m0:00:00\u001b[0m\n",
      "\u001b[?25hCollecting anyio\n",
      "  Downloading anyio-4.2.0-py3-none-any.whl (85 kB)\n",
      "\u001b[2K     \u001b[90m━━━━━━━━━━━━━━━━━━━━━━━━━━━━━━━━━━━━━━━━\u001b[0m \u001b[32m85.5/85.5 KB\u001b[0m \u001b[31m4.0 MB/s\u001b[0m eta \u001b[36m0:00:00\u001b[0m\n",
      "\u001b[?25hCollecting certifi\n",
      "  Downloading certifi-2023.11.17-py3-none-any.whl (162 kB)\n",
      "\u001b[2K     \u001b[90m━━━━━━━━━━━━━━━━━━━━━━━━━━━━━━━━━━━━━━━\u001b[0m \u001b[32m162.5/162.5 KB\u001b[0m \u001b[31m4.1 MB/s\u001b[0m eta \u001b[36m0:00:00\u001b[0ma \u001b[36m0:00:01\u001b[0m\n",
      "\u001b[?25hCollecting httpcore==1.*\n",
      "  Downloading httpcore-1.0.2-py3-none-any.whl (76 kB)\n",
      "\u001b[2K     \u001b[90m━━━━━━━━━━━━━━━━━━━━━━━━━━━━━━━━━━━━━━━━\u001b[0m \u001b[32m76.9/76.9 KB\u001b[0m \u001b[31m3.0 MB/s\u001b[0m eta \u001b[36m0:00:00\u001b[0m\n",
      "\u001b[?25hCollecting idna\n",
      "  Downloading idna-3.6-py3-none-any.whl (61 kB)\n",
      "\u001b[2K     \u001b[90m━━━━━━━━━━━━━━━━━━━━━━━━━━━━━━━━━━━━━━━━\u001b[0m \u001b[32m61.6/61.6 KB\u001b[0m \u001b[31m5.2 MB/s\u001b[0m eta \u001b[36m0:00:00\u001b[0m\n",
      "\u001b[?25hCollecting sniffio\n",
      "  Using cached sniffio-1.3.0-py3-none-any.whl (10 kB)\n",
      "Collecting h11<0.15,>=0.13\n",
      "  Using cached h11-0.14.0-py3-none-any.whl (58 kB)\n",
      "Requirement already satisfied: typing-extensions>=4.1 in /Users/I301903/Documents/GitHub/my-crypto-world/my_crypto_dashboard/lib/python3.8/site-packages (from anyio->httpx~=0.25.2->python-telegram-bot) (4.9.0)\n",
      "Collecting exceptiongroup>=1.0.2\n",
      "  Using cached exceptiongroup-1.2.0-py3-none-any.whl (16 kB)\n",
      "Installing collected packages: sniffio, idna, h11, exceptiongroup, certifi, httpcore, anyio, httpx, python-telegram-bot\n",
      "Successfully installed anyio-4.2.0 certifi-2023.11.17 exceptiongroup-1.2.0 h11-0.14.0 httpcore-1.0.2 httpx-0.25.2 idna-3.6 python-telegram-bot-20.7 sniffio-1.3.0\n",
      "\u001b[33mWARNING: You are using pip version 22.0.4; however, version 23.3.2 is available.\n",
      "You should consider upgrading via the '/Users/I301903/Documents/GitHub/my-crypto-world/my_crypto_dashboard/bin/python -m pip install --upgrade pip' command.\u001b[0m\u001b[33m\n",
      "\u001b[0mNote: you may need to restart the kernel to use updated packages.\n"
     ]
    }
   ],
   "source": [
    "pip install python-telegram-bot"
   ]
  },
  {
   "cell_type": "code",
   "execution_count": 8,
   "metadata": {},
   "outputs": [],
   "source": [
    "from telegram import Bot, error\n",
    "import asyncio\n"
   ]
  },
  {
   "cell_type": "code",
   "execution_count": 13,
   "metadata": {},
   "outputs": [],
   "source": [
    "bot = Bot(token='6503903873:AAFGdH8kXNi5Xkay8WTMwdLb3Xi4LS5PtOg')\n",
    "\n",
    "async def send_msg():\n",
    "    await bot.send_message(chat_id='-1002005170631', text='Hello, This is a test message')"
   ]
  },
  {
   "cell_type": "code",
   "execution_count": 18,
   "metadata": {},
   "outputs": [
    {
     "name": "stdout",
     "output_type": "stream",
     "text": [
      "HI\n"
     ]
    }
   ],
   "source": [
    "await send_msg()\n",
    "print(\"HI\")"
   ]
  },
  {
   "cell_type": "code",
   "execution_count": 22,
   "metadata": {},
   "outputs": [],
   "source": [
    "async def my_coroutine():\n",
    "    await bot.send_message(chat_id='-1002005170631', text='Hello, This is a test message')\n",
    "    return \"Coroutine executed\"\n",
    "\n",
    "    # Create a new event loop\n",
    "    loop = asyncio.new_event_loop()\n",
    "\n",
    "    # Set the event loop for the current context\n",
    "    asyncio.set_event_loop(loop)\n",
    "\n",
    "    try:\n",
    "        # run the coroutine\n",
    "        result = loop.run_until_complete(my_coroutine())\n",
    "        print(result)\n",
    "    finally:\n",
    "        # close the event loop\n",
    "        loop.close()"
   ]
  },
  {
   "cell_type": "code",
   "execution_count": 23,
   "metadata": {},
   "outputs": [
    {
     "data": {
      "text/plain": [
       "'Coroutine executed'"
      ]
     },
     "execution_count": 23,
     "metadata": {},
     "output_type": "execute_result"
    }
   ],
   "source": [
    "await my_coroutine()"
   ]
  },
  {
   "cell_type": "code",
   "execution_count": null,
   "metadata": {},
   "outputs": [],
   "source": []
  }
 ],
 "metadata": {
  "interpreter": {
   "hash": "17537b59a2032bbc7e1e402562b716ee2ffafcb7a718ba71176ad13793621877"
  },
  "kernelspec": {
   "display_name": "Python 3.9.7 ('base')",
   "language": "python",
   "name": "python3"
  },
  "language_info": {
   "codemirror_mode": {
    "name": "ipython",
    "version": 3
   },
   "file_extension": ".py",
   "mimetype": "text/x-python",
   "name": "python",
   "nbconvert_exporter": "python",
   "pygments_lexer": "ipython3",
   "version": "3.8.13"
  },
  "orig_nbformat": 4
 },
 "nbformat": 4,
 "nbformat_minor": 2
}
