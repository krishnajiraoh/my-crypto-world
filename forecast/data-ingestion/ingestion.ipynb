{
 "cells": [
  {
   "cell_type": "code",
   "execution_count": 152,
   "metadata": {},
   "outputs": [],
   "source": [
    "from pycoingecko import CoinGeckoAPI\n",
    "cg = CoinGeckoAPI()"
   ]
  },
  {
   "cell_type": "code",
   "execution_count": 155,
   "metadata": {},
   "outputs": [
    {
     "data": {
      "text/html": [
       "<div>\n",
       "<style scoped>\n",
       "    .dataframe tbody tr th:only-of-type {\n",
       "        vertical-align: middle;\n",
       "    }\n",
       "\n",
       "    .dataframe tbody tr th {\n",
       "        vertical-align: top;\n",
       "    }\n",
       "\n",
       "    .dataframe thead th {\n",
       "        text-align: right;\n",
       "    }\n",
       "</style>\n",
       "<table border=\"1\" class=\"dataframe\">\n",
       "  <thead>\n",
       "    <tr style=\"text-align: right;\">\n",
       "      <th></th>\n",
       "      <th>Time</th>\n",
       "      <th>Open</th>\n",
       "      <th>High</th>\n",
       "      <th>Low</th>\n",
       "      <th>Close</th>\n",
       "    </tr>\n",
       "  </thead>\n",
       "  <tbody>\n",
       "    <tr>\n",
       "      <th>0</th>\n",
       "      <td>1660406400000</td>\n",
       "      <td>24483.69</td>\n",
       "      <td>24520.14</td>\n",
       "      <td>24483.69</td>\n",
       "      <td>24520.14</td>\n",
       "    </tr>\n",
       "    <tr>\n",
       "      <th>1</th>\n",
       "      <td>1660420800000</td>\n",
       "      <td>24540.91</td>\n",
       "      <td>24611.87</td>\n",
       "      <td>24452.41</td>\n",
       "      <td>24452.41</td>\n",
       "    </tr>\n",
       "    <tr>\n",
       "      <th>2</th>\n",
       "      <td>1660435200000</td>\n",
       "      <td>24494.88</td>\n",
       "      <td>24526.57</td>\n",
       "      <td>24433.03</td>\n",
       "      <td>24433.03</td>\n",
       "    </tr>\n",
       "    <tr>\n",
       "      <th>3</th>\n",
       "      <td>1660449600000</td>\n",
       "      <td>24439.41</td>\n",
       "      <td>24635.23</td>\n",
       "      <td>24439.41</td>\n",
       "      <td>24617.90</td>\n",
       "    </tr>\n",
       "    <tr>\n",
       "      <th>4</th>\n",
       "      <td>1660464000000</td>\n",
       "      <td>24603.65</td>\n",
       "      <td>24659.87</td>\n",
       "      <td>24577.29</td>\n",
       "      <td>24659.87</td>\n",
       "    </tr>\n",
       "  </tbody>\n",
       "</table>\n",
       "</div>"
      ],
      "text/plain": [
       "            Time      Open      High       Low     Close\n",
       "0  1660406400000  24483.69  24520.14  24483.69  24520.14\n",
       "1  1660420800000  24540.91  24611.87  24452.41  24452.41\n",
       "2  1660435200000  24494.88  24526.57  24433.03  24433.03\n",
       "3  1660449600000  24439.41  24635.23  24439.41  24617.90\n",
       "4  1660464000000  24603.65  24659.87  24577.29  24659.87"
      ]
     },
     "execution_count": 155,
     "metadata": {},
     "output_type": "execute_result"
    }
   ],
   "source": [
    "import pandas as pd \n",
    "\n",
    "data = cg.get_coin_ohlc_by_id(id='bitcoin', vs_currency=\"usd\", days=\"30\")\n",
    "cols= [\"Time\", \"Open\", \"High\", \"Low\", \"Close\"]\n",
    "df = pd.DataFrame(data, columns=cols)\n",
    "\n",
    "df.head()"
   ]
  },
  {
   "cell_type": "code",
   "execution_count": 156,
   "metadata": {},
   "outputs": [],
   "source": [
    "df.to_csv(\"../data/HistoryData.csv\")"
   ]
  },
  {
   "cell_type": "code",
   "execution_count": null,
   "metadata": {},
   "outputs": [],
   "source": []
  }
 ],
 "metadata": {
  "interpreter": {
   "hash": "17537b59a2032bbc7e1e402562b716ee2ffafcb7a718ba71176ad13793621877"
  },
  "kernelspec": {
   "display_name": "Python 3 (ipykernel)",
   "language": "python",
   "name": "python3"
  },
  "language_info": {
   "codemirror_mode": {
    "name": "ipython",
    "version": 3
   },
   "file_extension": ".py",
   "mimetype": "text/x-python",
   "name": "python",
   "nbconvert_exporter": "python",
   "pygments_lexer": "ipython3",
   "version": "3.8.13"
  }
 },
 "nbformat": 4,
 "nbformat_minor": 4
}
