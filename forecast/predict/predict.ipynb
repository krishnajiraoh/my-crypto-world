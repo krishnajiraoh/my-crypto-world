{
 "cells": [
  {
   "cell_type": "code",
   "execution_count": 1,
   "metadata": {},
   "outputs": [],
   "source": [
    "# LSTM for international airline passengers problem with regression framing\n",
    "import numpy as np\n",
    "import pandas as pd\n",
    "import tensorflow as tf\n",
    "from tensorflow.keras.models import Sequential\n",
    "from tensorflow.keras.layers import Dense\n",
    "from tensorflow.keras.layers import LSTM\n",
    "from sklearn.preprocessing import MinMaxScaler\n",
    "from sklearn.metrics import mean_squared_error"
   ]
  },
  {
   "cell_type": "code",
   "execution_count": 2,
   "metadata": {},
   "outputs": [],
   "source": [
    "# convert an array of values into a dataset matrix\n",
    "def create_dataset(dataset, look_back=1):\n",
    "\tdataX, dataY = [], []\n",
    "\tfor i in range(len(dataset)-look_back-1):\n",
    "\t\ta = dataset[i:(i+look_back), 0]\n",
    "\t\tdataX.append(a)\n",
    "\t\tdataY.append(dataset[i + look_back, 0])\n",
    "\treturn np.array(dataX), np.array(dataY)"
   ]
  },
  {
   "cell_type": "code",
   "execution_count": 4,
   "metadata": {},
   "outputs": [
    {
     "data": {
      "text/plain": [
       "array([[20050.64],\n",
       "       [20056.95],\n",
       "       [20019.31],\n",
       "       [19920.05],\n",
       "       [20033.94]], dtype=float32)"
      ]
     },
     "execution_count": 4,
     "metadata": {},
     "output_type": "execute_result"
    }
   ],
   "source": [
    "# fix random seed for reproducibility\n",
    "tf.random.set_seed(7)\n",
    "\n",
    "# load the dataset\n",
    "dataframe = pd.read_csv('../data/HistoryData.csv', engine='python') #df[\"Close\"]\n",
    "dataset = dataframe[['Close']].values\n",
    "dataset = dataset.astype('float32')\n",
    "dataset[:5]"
   ]
  },
  {
   "cell_type": "code",
   "execution_count": 5,
   "metadata": {},
   "outputs": [
    {
     "data": {
      "text/plain": [
       "array([[0.3956151 ],\n",
       "       [0.39715004],\n",
       "       [0.3879919 ],\n",
       "       [0.36384058],\n",
       "       [0.3915515 ]], dtype=float32)"
      ]
     },
     "execution_count": 5,
     "metadata": {},
     "output_type": "execute_result"
    }
   ],
   "source": [
    "# normalize the dataset\n",
    "scaler = MinMaxScaler(feature_range=(0, 1))\n",
    "dataset = scaler.fit_transform(dataset)\n",
    "dataset[:5]"
   ]
  },
  {
   "cell_type": "code",
   "execution_count": 6,
   "metadata": {},
   "outputs": [],
   "source": [
    "# split into train and test sets\n",
    "train_size = int(len(dataset) * 0.67)\n",
    "test_size = len(dataset) - train_size\n",
    "train, test = dataset[0:train_size,:], dataset[train_size:len(dataset),:]\n",
    "\n",
    "# reshape into X=t and Y=t+1\n",
    "look_back = 1\n",
    "trainX, trainY = create_dataset(train, look_back)\n",
    "testX, testY = create_dataset(test, look_back)\n",
    "\n",
    "# reshape input to be [samples, time steps, features]\n",
    "trainX = np.reshape(trainX, (trainX.shape[0], 1, trainX.shape[1]))\n",
    "testX = np.reshape(testX, (testX.shape[0], 1, testX.shape[1]))"
   ]
  },
  {
   "cell_type": "code",
   "execution_count": 7,
   "metadata": {},
   "outputs": [
    {
     "name": "stderr",
     "output_type": "stream",
     "text": [
      "2022-10-15 16:17:18.504410: I tensorflow/compiler/jit/xla_cpu_device.cc:41] Not creating XLA devices, tf_xla_enable_xla_devices not set\n",
      "2022-10-15 16:17:18.507627: I tensorflow/core/platform/cpu_feature_guard.cc:142] This TensorFlow binary is optimized with oneAPI Deep Neural Network Library (oneDNN) to use the following CPU instructions in performance-critical operations:  SSE4.2\n",
      "To enable them in other operations, rebuild TensorFlow with the appropriate compiler flags.\n",
      "2022-10-15 16:17:18.715851: I tensorflow/compiler/mlir/mlir_graph_optimization_pass.cc:116] None of the MLIR optimization passes are enabled (registered 2)\n"
     ]
    },
    {
     "name": "stdout",
     "output_type": "stream",
     "text": [
      "Epoch 1/100\n",
      "119/119 - 1s - loss: 0.1706\n",
      "Epoch 2/100\n",
      "119/119 - 0s - loss: 0.0818\n",
      "Epoch 3/100\n",
      "119/119 - 0s - loss: 0.0396\n",
      "Epoch 4/100\n",
      "119/119 - 0s - loss: 0.0296\n",
      "Epoch 5/100\n",
      "119/119 - 0s - loss: 0.0272\n",
      "Epoch 6/100\n",
      "119/119 - 0s - loss: 0.0253\n",
      "Epoch 7/100\n",
      "119/119 - 0s - loss: 0.0232\n",
      "Epoch 8/100\n",
      "119/119 - 0s - loss: 0.0211\n",
      "Epoch 9/100\n",
      "119/119 - 0s - loss: 0.0189\n",
      "Epoch 10/100\n",
      "119/119 - 0s - loss: 0.0169\n",
      "Epoch 11/100\n",
      "119/119 - 0s - loss: 0.0150\n",
      "Epoch 12/100\n",
      "119/119 - 0s - loss: 0.0133\n",
      "Epoch 13/100\n",
      "119/119 - 0s - loss: 0.0116\n",
      "Epoch 14/100\n",
      "119/119 - 0s - loss: 0.0102\n",
      "Epoch 15/100\n",
      "119/119 - 0s - loss: 0.0087\n",
      "Epoch 16/100\n",
      "119/119 - 0s - loss: 0.0076\n",
      "Epoch 17/100\n",
      "119/119 - 0s - loss: 0.0066\n",
      "Epoch 18/100\n",
      "119/119 - 0s - loss: 0.0059\n",
      "Epoch 19/100\n",
      "119/119 - 0s - loss: 0.0054\n",
      "Epoch 20/100\n",
      "119/119 - 0s - loss: 0.0050\n",
      "Epoch 21/100\n",
      "119/119 - 0s - loss: 0.0047\n",
      "Epoch 22/100\n",
      "119/119 - 0s - loss: 0.0045\n",
      "Epoch 23/100\n",
      "119/119 - 0s - loss: 0.0044\n",
      "Epoch 24/100\n",
      "119/119 - 0s - loss: 0.0043\n",
      "Epoch 25/100\n",
      "119/119 - 0s - loss: 0.0044\n",
      "Epoch 26/100\n",
      "119/119 - 0s - loss: 0.0042\n",
      "Epoch 27/100\n",
      "119/119 - 0s - loss: 0.0043\n",
      "Epoch 28/100\n",
      "119/119 - 0s - loss: 0.0042\n",
      "Epoch 29/100\n",
      "119/119 - 0s - loss: 0.0042\n",
      "Epoch 30/100\n",
      "119/119 - 0s - loss: 0.0041\n",
      "Epoch 31/100\n",
      "119/119 - 0s - loss: 0.0042\n",
      "Epoch 32/100\n",
      "119/119 - 0s - loss: 0.0043\n",
      "Epoch 33/100\n",
      "119/119 - 0s - loss: 0.0042\n",
      "Epoch 34/100\n",
      "119/119 - 0s - loss: 0.0043\n",
      "Epoch 35/100\n",
      "119/119 - 0s - loss: 0.0042\n",
      "Epoch 36/100\n",
      "119/119 - 0s - loss: 0.0042\n",
      "Epoch 37/100\n",
      "119/119 - 0s - loss: 0.0043\n",
      "Epoch 38/100\n",
      "119/119 - 0s - loss: 0.0043\n",
      "Epoch 39/100\n",
      "119/119 - 0s - loss: 0.0042\n",
      "Epoch 40/100\n",
      "119/119 - 0s - loss: 0.0042\n",
      "Epoch 41/100\n",
      "119/119 - 0s - loss: 0.0042\n",
      "Epoch 42/100\n",
      "119/119 - 0s - loss: 0.0042\n",
      "Epoch 43/100\n",
      "119/119 - 0s - loss: 0.0042\n",
      "Epoch 44/100\n",
      "119/119 - 0s - loss: 0.0044\n",
      "Epoch 45/100\n",
      "119/119 - 0s - loss: 0.0042\n",
      "Epoch 46/100\n",
      "119/119 - 0s - loss: 0.0042\n",
      "Epoch 47/100\n",
      "119/119 - 0s - loss: 0.0042\n",
      "Epoch 48/100\n",
      "119/119 - 0s - loss: 0.0043\n",
      "Epoch 49/100\n",
      "119/119 - 0s - loss: 0.0042\n",
      "Epoch 50/100\n",
      "119/119 - 0s - loss: 0.0042\n",
      "Epoch 51/100\n",
      "119/119 - 0s - loss: 0.0043\n",
      "Epoch 52/100\n",
      "119/119 - 0s - loss: 0.0042\n",
      "Epoch 53/100\n",
      "119/119 - 0s - loss: 0.0042\n",
      "Epoch 54/100\n",
      "119/119 - 0s - loss: 0.0043\n",
      "Epoch 55/100\n",
      "119/119 - 0s - loss: 0.0042\n",
      "Epoch 56/100\n",
      "119/119 - 0s - loss: 0.0042\n",
      "Epoch 57/100\n",
      "119/119 - 0s - loss: 0.0044\n",
      "Epoch 58/100\n",
      "119/119 - 0s - loss: 0.0042\n",
      "Epoch 59/100\n",
      "119/119 - 0s - loss: 0.0041\n",
      "Epoch 60/100\n",
      "119/119 - 0s - loss: 0.0043\n",
      "Epoch 61/100\n",
      "119/119 - 0s - loss: 0.0043\n",
      "Epoch 62/100\n",
      "119/119 - 0s - loss: 0.0042\n",
      "Epoch 63/100\n",
      "119/119 - 0s - loss: 0.0044\n",
      "Epoch 64/100\n",
      "119/119 - 0s - loss: 0.0042\n",
      "Epoch 65/100\n",
      "119/119 - 0s - loss: 0.0042\n",
      "Epoch 66/100\n",
      "119/119 - 0s - loss: 0.0042\n",
      "Epoch 67/100\n",
      "119/119 - 0s - loss: 0.0043\n",
      "Epoch 68/100\n",
      "119/119 - 0s - loss: 0.0042\n",
      "Epoch 69/100\n",
      "119/119 - 0s - loss: 0.0042\n",
      "Epoch 70/100\n",
      "119/119 - 0s - loss: 0.0042\n",
      "Epoch 71/100\n",
      "119/119 - 0s - loss: 0.0042\n",
      "Epoch 72/100\n",
      "119/119 - 0s - loss: 0.0042\n",
      "Epoch 73/100\n",
      "119/119 - 0s - loss: 0.0042\n",
      "Epoch 74/100\n",
      "119/119 - 0s - loss: 0.0043\n",
      "Epoch 75/100\n",
      "119/119 - 0s - loss: 0.0042\n",
      "Epoch 76/100\n",
      "119/119 - 0s - loss: 0.0042\n",
      "Epoch 77/100\n",
      "119/119 - 0s - loss: 0.0043\n",
      "Epoch 78/100\n",
      "119/119 - 0s - loss: 0.0042\n",
      "Epoch 79/100\n",
      "119/119 - 0s - loss: 0.0043\n",
      "Epoch 80/100\n",
      "119/119 - 0s - loss: 0.0042\n",
      "Epoch 81/100\n",
      "119/119 - 0s - loss: 0.0042\n",
      "Epoch 82/100\n",
      "119/119 - 0s - loss: 0.0043\n",
      "Epoch 83/100\n",
      "119/119 - 0s - loss: 0.0042\n",
      "Epoch 84/100\n",
      "119/119 - 0s - loss: 0.0041\n",
      "Epoch 85/100\n",
      "119/119 - 0s - loss: 0.0043\n",
      "Epoch 86/100\n",
      "119/119 - 0s - loss: 0.0042\n",
      "Epoch 87/100\n",
      "119/119 - 0s - loss: 0.0042\n",
      "Epoch 88/100\n",
      "119/119 - 0s - loss: 0.0042\n",
      "Epoch 89/100\n",
      "119/119 - 0s - loss: 0.0042\n",
      "Epoch 90/100\n",
      "119/119 - 0s - loss: 0.0044\n",
      "Epoch 91/100\n",
      "119/119 - 0s - loss: 0.0043\n",
      "Epoch 92/100\n",
      "119/119 - 0s - loss: 0.0043\n",
      "Epoch 93/100\n",
      "119/119 - 0s - loss: 0.0042\n",
      "Epoch 94/100\n",
      "119/119 - 0s - loss: 0.0043\n",
      "Epoch 95/100\n",
      "119/119 - 0s - loss: 0.0044\n",
      "Epoch 96/100\n",
      "119/119 - 0s - loss: 0.0042\n",
      "Epoch 97/100\n",
      "119/119 - 0s - loss: 0.0043\n",
      "Epoch 98/100\n",
      "119/119 - 0s - loss: 0.0044\n",
      "Epoch 99/100\n",
      "119/119 - 0s - loss: 0.0042\n",
      "Epoch 100/100\n",
      "119/119 - 0s - loss: 0.0042\n"
     ]
    },
    {
     "data": {
      "text/plain": [
       "<tensorflow.python.keras.callbacks.History at 0x7fd9b9c4f790>"
      ]
     },
     "execution_count": 7,
     "metadata": {},
     "output_type": "execute_result"
    }
   ],
   "source": [
    "# create and fit the LSTM network\n",
    "model = Sequential()\n",
    "model.add(LSTM(4, input_shape=(1, look_back)))\n",
    "model.add(Dense(1))\n",
    "model.compile(loss='mean_squared_error', optimizer='adam')\n",
    "model.fit(trainX, trainY, epochs=100, batch_size=1, verbose=2)"
   ]
  },
  {
   "cell_type": "code",
   "execution_count": 8,
   "metadata": {},
   "outputs": [],
   "source": [
    "# make predictions\n",
    "trainPredict = model.predict(trainX)\n",
    "testPredict = model.predict(testX)"
   ]
  },
  {
   "cell_type": "code",
   "execution_count": 27,
   "metadata": {},
   "outputs": [],
   "source": [
    "ms_in_hour = 3.6e6\n",
    "last_date = dataframe.iloc[-1,0]\n",
    "\n",
    "X = testX[-1].reshape(1,1,1)\n",
    "\n",
    "y = np.array([])\n",
    "dates = np.array([])\n",
    "predictions = 6\n",
    "n = 0\n",
    "\n",
    "while(n<predictions):    \n",
    "    y_pred = model.predict(X)\n",
    "    y = np.append(y, y_pred)\n",
    "\n",
    "    next_date = (4 * ms_in_hour) + last_date\n",
    "    dates = np.append(dates, next_date)    \n",
    "\n",
    "    X=y_pred.reshape(1,1,1)\n",
    "    last_date = next_date\n",
    "    n+=1"
   ]
  },
  {
   "cell_type": "code",
   "execution_count": 30,
   "metadata": {},
   "outputs": [
    {
     "data": {
      "text/plain": [
       "1661659200000"
      ]
     },
     "execution_count": 30,
     "metadata": {},
     "output_type": "execute_result"
    }
   ],
   "source": [
    "dataframe.iloc[0,0]"
   ]
  },
  {
   "cell_type": "code",
   "execution_count": 28,
   "metadata": {},
   "outputs": [
    {
     "data": {
      "text/plain": [
       "array([1.6642656e+12, 1.6642800e+12, 1.6642944e+12, 1.6643088e+12,\n",
       "       1.6643232e+12, 1.6643376e+12])"
      ]
     },
     "execution_count": 28,
     "metadata": {},
     "output_type": "execute_result"
    }
   ],
   "source": [
    "dates"
   ]
  },
  {
   "cell_type": "code",
   "execution_count": 25,
   "metadata": {},
   "outputs": [
    {
     "data": {
      "text/plain": [
       "array([1.6642656e+12, 1.6642800e+12, 1.6642944e+12, 1.6643088e+12,\n",
       "       1.6643232e+12, 1.6643376e+12])"
      ]
     },
     "execution_count": 25,
     "metadata": {},
     "output_type": "execute_result"
    }
   ],
   "source": [
    "dates"
   ]
  },
  {
   "cell_type": "code",
   "execution_count": 10,
   "metadata": {},
   "outputs": [],
   "source": [
    "y = np.expand_dims(y, axis=0)\n",
    "f = scaler.inverse_transform(y)\n",
    "f = np.reshape(f,-1)"
   ]
  },
  {
   "cell_type": "code",
   "execution_count": 11,
   "metadata": {},
   "outputs": [
    {
     "data": {
      "text/html": [
       "<div>\n",
       "<style scoped>\n",
       "    .dataframe tbody tr th:only-of-type {\n",
       "        vertical-align: middle;\n",
       "    }\n",
       "\n",
       "    .dataframe tbody tr th {\n",
       "        vertical-align: top;\n",
       "    }\n",
       "\n",
       "    .dataframe thead th {\n",
       "        text-align: right;\n",
       "    }\n",
       "</style>\n",
       "<table border=\"1\" class=\"dataframe\">\n",
       "  <thead>\n",
       "    <tr style=\"text-align: right;\">\n",
       "      <th></th>\n",
       "      <th>Time</th>\n",
       "      <th>Forecasted Price</th>\n",
       "    </tr>\n",
       "  </thead>\n",
       "  <tbody>\n",
       "    <tr>\n",
       "      <th>0</th>\n",
       "      <td>1.664266e+12</td>\n",
       "      <td>19246.234317</td>\n",
       "    </tr>\n",
       "    <tr>\n",
       "      <th>1</th>\n",
       "      <td>1.664280e+12</td>\n",
       "      <td>19287.364367</td>\n",
       "    </tr>\n",
       "    <tr>\n",
       "      <th>2</th>\n",
       "      <td>1.664294e+12</td>\n",
       "      <td>19324.063283</td>\n",
       "    </tr>\n",
       "    <tr>\n",
       "      <th>3</th>\n",
       "      <td>1.664309e+12</td>\n",
       "      <td>19357.020653</td>\n",
       "    </tr>\n",
       "    <tr>\n",
       "      <th>4</th>\n",
       "      <td>1.664323e+12</td>\n",
       "      <td>19386.784353</td>\n",
       "    </tr>\n",
       "    <tr>\n",
       "      <th>5</th>\n",
       "      <td>1.664338e+12</td>\n",
       "      <td>19413.795512</td>\n",
       "    </tr>\n",
       "  </tbody>\n",
       "</table>\n",
       "</div>"
      ],
      "text/plain": [
       "           Time  Forecasted Price\n",
       "0  1.664266e+12      19246.234317\n",
       "1  1.664280e+12      19287.364367\n",
       "2  1.664294e+12      19324.063283\n",
       "3  1.664309e+12      19357.020653\n",
       "4  1.664323e+12      19386.784353\n",
       "5  1.664338e+12      19413.795512"
      ]
     },
     "execution_count": 11,
     "metadata": {},
     "output_type": "execute_result"
    }
   ],
   "source": [
    "pred = pd.DataFrame(np.vstack((dates, f))).T\n",
    "pred.columns = [\"Time\", \"Forecasted Price\"]\n",
    "#pred[\"Time\"] = pd.to_datetime(pred.Time, unit='ms')\n",
    "pred"
   ]
  },
  {
   "cell_type": "code",
   "execution_count": 15,
   "metadata": {},
   "outputs": [],
   "source": [
    "from pushbullet import PushBullet\n",
    "import time\n",
    "import os"
   ]
  },
  {
   "cell_type": "code",
   "execution_count": 16,
   "metadata": {},
   "outputs": [],
   "source": [
    "# Get the access token from Pushbullet.com\n",
    "access_token = \"\"\n",
    "  \n",
    "# Get the instance using access token\n",
    "pb = PushBullet(access_token)"
   ]
  },
  {
   "cell_type": "code",
   "execution_count": 20,
   "metadata": {},
   "outputs": [
    {
     "data": {
      "text/plain": [
       "{}"
      ]
     },
     "execution_count": 20,
     "metadata": {},
     "output_type": "execute_result"
    }
   ],
   "source": [
    "forecast_channel = pb.channels[0]\n",
    "forecast_channel.push_note(\"123\",\"body\")"
   ]
  },
  {
   "cell_type": "code",
   "execution_count": 31,
   "metadata": {},
   "outputs": [],
   "source": [
    "pred.to_csv(\"../data/ForecastedPrices.csv\")"
   ]
  },
  {
   "cell_type": "code",
   "execution_count": 24,
   "metadata": {},
   "outputs": [
    {
     "data": {
      "text/plain": [
       "0   2022-09-27 08:00:00\n",
       "1   2022-09-27 12:00:00\n",
       "2   2022-09-27 16:00:00\n",
       "3   2022-09-27 20:00:00\n",
       "4   2022-09-28 00:00:00\n",
       "5   2022-09-28 04:00:00\n",
       "Name: Time, dtype: datetime64[ns]"
      ]
     },
     "execution_count": 24,
     "metadata": {},
     "output_type": "execute_result"
    }
   ],
   "source": [
    "pd.to_datetime(pred.Time, unit=\"ms\") "
   ]
  },
  {
   "cell_type": "code",
   "execution_count": 40,
   "metadata": {},
   "outputs": [],
   "source": [
    "body = pred.to_csv(header=False, index=False)"
   ]
  },
  {
   "cell_type": "code",
   "execution_count": 42,
   "metadata": {},
   "outputs": [
    {
     "data": {
      "text/plain": [
       "{}"
      ]
     },
     "execution_count": 42,
     "metadata": {},
     "output_type": "execute_result"
    }
   ],
   "source": [
    "forecast_channel.push_note(\"123\",body)"
   ]
  },
  {
   "cell_type": "code",
   "execution_count": 45,
   "metadata": {},
   "outputs": [
    {
     "name": "stdout",
     "output_type": "stream",
     "text": [
      "           Time  Forecasted Price\n",
      "0  1.664266e+12      19246.234317\n",
      "1  1.664280e+12      19287.364367\n",
      "2  1.664294e+12      19324.063283\n",
      "3  1.664309e+12      19357.020653\n",
      "4  1.664323e+12      19386.784353\n",
      "5  1.664338e+12      19413.795512\n",
      "coin\n",
      "           Time  Forecasted Price\n",
      "0  1.664266e+12      19246.234317\n",
      "1  1.664280e+12      19287.364367\n",
      "2  1.664294e+12      19324.063283\n",
      "3  1.664309e+12      19357.020653\n",
      "4  1.664323e+12      19386.784353\n",
      "5  1.664338e+12      19413.795512\n"
     ]
    }
   ],
   "source": [
    "p = [pred, \"coin\", pred]\n",
    "for i in p:\n",
    "    print(i)"
   ]
  },
  {
   "cell_type": "code",
   "execution_count": 46,
   "metadata": {},
   "outputs": [
    {
     "name": "stdout",
     "output_type": "stream",
     "text": [
      "<class 'pandas.core.frame.DataFrame'>\n",
      "<class 'pandas.core.frame.DataFrame'>\n"
     ]
    }
   ],
   "source": [
    "d = {\n",
    "    \"bitcoin\": pred,\n",
    "    \"sol\" : pred\n",
    "}\n",
    "\n",
    "for i in d.keys():\n",
    "    print(type(d[i]))"
   ]
  },
  {
   "cell_type": "code",
   "execution_count": 49,
   "metadata": {},
   "outputs": [
    {
     "data": {
      "text/plain": [
       "0    19246.23\n",
       "1    19287.36\n",
       "2    19324.06\n",
       "3    19357.02\n",
       "4    19386.78\n",
       "5    19413.80\n",
       "Name: Forecasted Price, dtype: float64"
      ]
     },
     "execution_count": 49,
     "metadata": {},
     "output_type": "execute_result"
    }
   ],
   "source": [
    "round(pred[\"Forecasted Price\"],2)"
   ]
  },
  {
   "cell_type": "code",
   "execution_count": null,
   "metadata": {},
   "outputs": [],
   "source": []
  }
 ],
 "metadata": {
  "interpreter": {
   "hash": "aacf566d4b51b281f19bcf6a6edce0f977396f97a186ccd24fb494ef75f17769"
  },
  "kernelspec": {
   "display_name": "Python 3.8.13",
   "language": "python",
   "name": "python3"
  },
  "language_info": {
   "codemirror_mode": {
    "name": "ipython",
    "version": 3
   },
   "file_extension": ".py",
   "mimetype": "text/x-python",
   "name": "python",
   "nbconvert_exporter": "python",
   "pygments_lexer": "ipython3",
   "version": "3.8.13"
  },
  "orig_nbformat": 4
 },
 "nbformat": 4,
 "nbformat_minor": 2
}
